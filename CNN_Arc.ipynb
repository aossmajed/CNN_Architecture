{
  "nbformat": 4,
  "nbformat_minor": 0,
  "metadata": {
    "colab": {
      "name": "CNN_Arc.ipynb",
      "provenance": [],
      "collapsed_sections": [],
      "toc_visible": true,
      "authorship_tag": "ABX9TyMb6Awqy95RvAChW6zmxFBK",
      "include_colab_link": true
    },
    "kernelspec": {
      "display_name": "Python 3",
      "name": "python3"
    },
    "language_info": {
      "name": "python"
    }
  },
  "cells": [
    {
      "cell_type": "markdown",
      "metadata": {
        "id": "view-in-github",
        "colab_type": "text"
      },
      "source": [
        "<a href=\"https://colab.research.google.com/github/aossmajed/CNN_Architecture/blob/main/CNN_Arc.ipynb\" target=\"_parent\"><img src=\"https://colab.research.google.com/assets/colab-badge.svg\" alt=\"Open In Colab\"/></a>"
      ]
    },
    {
      "cell_type": "markdown",
      "metadata": {
        "id": "k64_4Vuj9ySl"
      },
      "source": [
        "\n",
        "#                     Aoss Majed Sultan Zaid          \n"
      ]
    },
    {
      "cell_type": "markdown",
      "metadata": {
        "id": "m58PGfTlzKO_"
      },
      "source": [
        "#Libraries needed"
      ]
    },
    {
      "cell_type": "code",
      "metadata": {
        "id": "nESoEw4pNlsG"
      },
      "source": [
        "import numpy as np\n",
        "from sklearn.model_selection import KFold\n",
        "from keras.datasets import mnist\n",
        "from keras.utils import to_categorical\n",
        "from keras.models import Sequential\n",
        "from keras.layers import Conv2D\n",
        "from keras.layers import MaxPooling2D , AveragePooling2D\n",
        "from keras.layers import Dense , Dropout \n",
        "from keras.layers import Flatten\n",
        "from keras.optimizers import SGD\n",
        "from keras.optimizers import Adam ,RMSprop"
      ],
      "execution_count": null,
      "outputs": []
    },
    {
      "cell_type": "markdown",
      "metadata": {
        "id": "-efO4Qn99RCB"
      },
      "source": []
    },
    {
      "cell_type": "markdown",
      "metadata": {
        "id": "49c8BPcLFzgK"
      },
      "source": [
        "#Build_Model_1 function"
      ]
    },
    {
      "cell_type": "code",
      "metadata": {
        "id": "NGP_sISblzvP"
      },
      "source": [
        "def Build_model_1(model , train_norm , trainY):\n",
        "  scores , losses = list() , list()\n",
        "  kfold = KFold(5, shuffle=True, random_state=1)\n",
        "\n",
        "  for train_ix, test_ix in kfold.split(train_norm):\n",
        "    opt =SGD(lr=0.01, momentum=0.9)\n",
        "    model.compile(optimizer=opt , loss='categorical_crossentropy', metrics=['accuracy'])\n",
        "    \n",
        "    trainXTemp, trainYTemp, testXTemp, testYTemp = train_norm[train_ix], trainY[train_ix], train_norm[test_ix], trainY[test_ix]\n",
        "\n",
        "    model.fit(trainXTemp, trainYTemp, epochs=10, batch_size=128, validation_data=(testXTemp, testYTemp), verbose=0)\n",
        "\n",
        "    loss, acc = model.evaluate(testXTemp, testYTemp, verbose=0)\n",
        "    print('accuracy: %.3f' % (acc * 100.0))\n",
        "    print('loss: %.7f' % (loss))\n",
        "\n",
        "    scores.append(acc)\n",
        "    losses.append(loss)\n",
        "  return scores , losses"
      ],
      "execution_count": null,
      "outputs": []
    },
    {
      "cell_type": "markdown",
      "metadata": {
        "id": "1DCefevy-eXm"
      },
      "source": [
        "#Build_Model_2 function"
      ]
    },
    {
      "cell_type": "code",
      "metadata": {
        "id": "UZIRjHOJxcV1"
      },
      "source": [
        "def Build_Model_2(model , train_norm , trainY):\n",
        "  scores , losses = list() , list()\n",
        "  kfold = KFold(5, shuffle=True, random_state=1)\n",
        "  for train_ix, test_ix in kfold.split(train_norm):\n",
        "    opt=Adam(lr=0.01, decay=0.00001)\n",
        "    model.compile(optimizer=opt, loss='categorical_crossentropy', metrics=['accuracy'])\n",
        "\n",
        "    trainXTemp, trainYTemp, testXTemp, testYTemp = train_norm[train_ix], trainY[train_ix], train_norm[test_ix], trainY[test_ix]\n",
        "\n",
        "    model.fit(trainXTemp, trainYTemp, epochs=10, batch_size=128, validation_data=(testXTemp, testYTemp), verbose=0)\n",
        "\n",
        "    loss, acc = model.evaluate(testXTemp, testYTemp, verbose=0)\n",
        "    print('accuracy: %.3f' % (acc * 100.0))\n",
        "    print('loss: %.7f' % (loss))\n",
        "\n",
        "    scores.append(acc)\n",
        "    losses.append(loss)\n",
        "  return scores , losses, \n",
        "  "
      ],
      "execution_count": null,
      "outputs": []
    },
    {
      "cell_type": "markdown",
      "metadata": {
        "id": "Q7I7ekwKTJ5y"
      },
      "source": [
        "#Build_Model_3 function"
      ]
    },
    {
      "cell_type": "code",
      "metadata": {
        "id": "YHo83-k5TTFd"
      },
      "source": [
        "def Build_Model_3(model , train_norm , trainY):\n",
        "  scores , losses = list() , list()\n",
        "  kfold = KFold(5, shuffle=True, random_state=1)\n",
        "  for train_ix, test_ix in kfold.split(train_norm):\n",
        "    opt=RMSprop(lr=0.001, decay=0.00001)\n",
        "    model.compile(optimizer=opt, loss='categorical_crossentropy', metrics=['accuracy'])\n",
        "\n",
        "    trainXTemp, trainYTemp, testXTemp, testYTemp = train_norm[train_ix], trainY[train_ix], train_norm[test_ix], trainY[test_ix]\n",
        "\n",
        "    model.fit(trainXTemp, trainYTemp, epochs=10, batch_size=128, validation_data=(testXTemp, testYTemp), verbose=0)\n",
        "\n",
        "    loss, acc = model.evaluate(testXTemp, testYTemp, verbose=0)\n",
        "    \n",
        "    print('accuracy: %.3f' % (acc * 100.0))\n",
        "    print('loss: %.7f' % (loss))\n",
        "    scores.append(acc)\n",
        "    losses.append(loss)\n",
        "  return scores , losses\n",
        "  "
      ],
      "execution_count": null,
      "outputs": []
    },
    {
      "cell_type": "markdown",
      "metadata": {
        "id": "Gbt-oOz2FvVR"
      },
      "source": [
        "#Load Data"
      ]
    },
    {
      "cell_type": "code",
      "metadata": {
        "id": "ViWwhBWR3FUc",
        "colab": {
          "base_uri": "https://localhost:8080/"
        },
        "outputId": "cb1f38f0-54e0-49eb-dc12-80ce24b48820"
      },
      "source": [
        "(trainX, trainY), (testX, testY) = mnist.load_data()\n",
        "trainX = trainX.reshape((trainX.shape[0], 28, 28, 1))\n",
        "testX = testX.reshape((testX.shape[0], 28, 28, 1))\n",
        "trainY = to_categorical(trainY)\n",
        "testY = to_categorical(testY)\n",
        "train_norm = trainX.astype('float32')\n",
        "test_norm = testX.astype('float32')\n",
        "train_norm = train_norm / 255.0\n",
        "test_norm = test_norm / 255.0"
      ],
      "execution_count": null,
      "outputs": [
        {
          "output_type": "stream",
          "text": [
            "Downloading data from https://storage.googleapis.com/tensorflow/tf-keras-datasets/mnist.npz\n",
            "11493376/11490434 [==============================] - 0s 0us/step\n"
          ],
          "name": "stdout"
        }
      ]
    },
    {
      "cell_type": "markdown",
      "metadata": {
        "id": "Zjs6_N3e-6wp"
      },
      "source": []
    },
    {
      "cell_type": "markdown",
      "metadata": {
        "id": "5fBDi1fbET8a"
      },
      "source": [
        "#Model 1"
      ]
    },
    {
      "cell_type": "code",
      "metadata": {
        "colab": {
          "base_uri": "https://localhost:8080/"
        },
        "id": "ZFCP6tiQHgWn",
        "outputId": "0747d385-fb31-46a6-812f-32135c69c2c6"
      },
      "source": [
        "model_1 = Sequential()\n",
        "model_1.add(Conv2D(64, (2, 2), activation='relu', kernel_initializer='he_uniform', input_shape=(28, 28, 1)))\n",
        "model_1.add(MaxPooling2D((2, 2)))\n",
        "model_1.add(Conv2D(64, (2, 2), activation='relu', kernel_initializer='he_uniform', input_shape=(28, 28, 1)))\n",
        "model_1.add(MaxPooling2D((2, 2)))\n",
        "model_1.add(Conv2D(64, (2, 2), activation='relu', kernel_initializer='he_uniform', input_shape=(28, 28, 1)))\n",
        "model_1.add(MaxPooling2D((2, 2)))\n",
        "model_1.add(Flatten())\n",
        "model_1.add(Dense(100, activation='relu', kernel_initializer='he_uniform'))\n",
        "model_1.add(Dense(10, activation='softmax'))\n",
        "scores , losses = Build_model_1(model_1,train_norm ,trainY)"
      ],
      "execution_count": null,
      "outputs": [
        {
          "output_type": "stream",
          "text": [
            "accuracy: 97.992\n",
            "loss: 0.0700903\n",
            "accuracy: 98.950\n",
            "loss: 0.0356603\n",
            "accuracy: 99.375\n",
            "loss: 0.0203971\n",
            "accuracy: 99.817\n",
            "loss: 0.0051487\n",
            "accuracy: 99.942\n",
            "loss: 0.0018636\n"
          ],
          "name": "stdout"
        }
      ]
    },
    {
      "cell_type": "code",
      "metadata": {
        "id": "L8-RT5yj9ybj",
        "colab": {
          "base_uri": "https://localhost:8080/"
        },
        "outputId": "1b34a94c-9fdf-46af-b4ab-2d1097eb0fb4"
      },
      "source": [
        "model_1 = Sequential()\n",
        "model_1.add(Conv2D(64, (2, 2), activation='relu', kernel_initializer='he_uniform', input_shape=(28, 28, 1)))\n",
        "model_1.add(MaxPooling2D((2, 2)))\n",
        "model_1.add(Conv2D(64, (2, 2), activation='relu', kernel_initializer='he_uniform', input_shape=(28, 28, 1)))\n",
        "model_1.add(MaxPooling2D((2, 2)))\n",
        "model_1.add(Flatten())\n",
        "model_1.add(Dense(100, activation='relu', kernel_initializer='he_uniform'))\n",
        "model_1.add(Dense(10, activation='softmax'))\n",
        "scores , losses = Build_model_1(model_1,train_norm ,trainY)"
      ],
      "execution_count": null,
      "outputs": [
        {
          "output_type": "stream",
          "text": [
            "accuracy: 98.392\n",
            "loss: 0.0517699\n",
            "accuracy: 99.508\n",
            "loss: 0.0164475\n",
            "accuracy: 99.842\n",
            "loss: 0.0054389\n",
            "accuracy: 99.975\n",
            "loss: 0.0011408\n",
            "accuracy: 100.000\n",
            "loss: 0.0004378\n"
          ],
          "name": "stdout"
        }
      ]
    },
    {
      "cell_type": "code",
      "metadata": {
        "id": "vkdv0FqH96Sm",
        "colab": {
          "base_uri": "https://localhost:8080/"
        },
        "outputId": "6b1d59ed-5231-42a8-d805-24437139a4bc"
      },
      "source": [
        "model_1 = Sequential()\n",
        "model_1.add(Conv2D(64, (2, 2), activation='relu', kernel_initializer='he_uniform', input_shape=(28, 28, 1)))\n",
        "model_1.add(MaxPooling2D((2, 2)))\n",
        "model_1.add(Flatten())\n",
        "model_1.add(Dense(100, activation='relu', kernel_initializer='he_uniform'))\n",
        "model_1.add(Dense(10, activation='softmax'))\n",
        "scores , losses = Build_model_1(model_1,train_norm ,trainY)"
      ],
      "execution_count": null,
      "outputs": [
        {
          "output_type": "stream",
          "text": [
            "accuracy: 97.942\n",
            "loss: 0.0700047\n",
            "accuracy: 99.025\n",
            "loss: 0.0296896\n",
            "accuracy: 99.642\n",
            "loss: 0.0102335\n",
            "accuracy: 99.950\n",
            "loss: 0.0025353\n",
            "accuracy: 99.975\n",
            "loss: 0.0014976\n"
          ],
          "name": "stdout"
        }
      ]
    },
    {
      "cell_type": "markdown",
      "metadata": {
        "id": "Hi6FjuudwZKW"
      },
      "source": [
        "#Model 2"
      ]
    },
    {
      "cell_type": "code",
      "metadata": {
        "id": "cJhhKUBfECaq",
        "colab": {
          "base_uri": "https://localhost:8080/"
        },
        "outputId": "ebb29b53-3f18-4f7c-ec73-33824095af6b"
      },
      "source": [
        "model_2 = Sequential()\n",
        "model_2.add(Conv2D(64, (2, 2), activation='tanh', kernel_initializer='he_uniform', input_shape=(28, 28, 1)))\n",
        "model_2.add(MaxPooling2D((2, 2)))\n",
        "model_2.add(Conv2D(64, (2, 2), activation='tanh', kernel_initializer='he_uniform', input_shape=(28, 28, 1)))\n",
        "model_2.add(MaxPooling2D((2, 2)))\n",
        "model_2.add(Conv2D(64, (2, 2), activation='tanh', kernel_initializer='he_uniform', input_shape=(28, 28, 1)))\n",
        "model_2.add(MaxPooling2D((2, 2)))\n",
        "model_2.add(Flatten())\n",
        "model_2.add(Dropout(0.3))\n",
        "model_2.add(Dense(100, activation='tanh', kernel_initializer='he_uniform'))\n",
        "model_2.add(Dense(10, activation='softmax'))\n",
        "\n",
        "scores , losses = Build_Model_2(model_2,train_norm ,trainY)"
      ],
      "execution_count": null,
      "outputs": [
        {
          "output_type": "stream",
          "text": [
            "accuracy: 93.967\n",
            "loss: 0.1958074\n",
            "accuracy: 94.642\n",
            "loss: 0.1743712\n",
            "accuracy: 94.917\n",
            "loss: 0.1720827\n",
            "accuracy: 93.658\n",
            "loss: 0.1962588\n",
            "accuracy: 94.158\n",
            "loss: 0.1839805\n"
          ],
          "name": "stdout"
        }
      ]
    },
    {
      "cell_type": "code",
      "metadata": {
        "colab": {
          "base_uri": "https://localhost:8080/"
        },
        "id": "jgqd6d1u2_JI",
        "outputId": "bfb6b67f-b763-4b64-f5ff-4f481a92d7a9"
      },
      "source": [
        "model_2 = Sequential()\n",
        "model_2.add(Conv2D(64, (2, 2), activation='sigmoid', kernel_initializer='he_uniform', input_shape=(28, 28, 1)))\n",
        "model_2.add(MaxPooling2D((2, 2)))\n",
        "model_2.add(Conv2D(64, (2, 2), activation='sigmoid', kernel_initializer='he_uniform', input_shape=(28, 28, 1)))\n",
        "model_2.add(MaxPooling2D((2, 2)))\n",
        "model_2.add(Conv2D(64, (2, 2), activation='sigmoid', kernel_initializer='he_uniform', input_shape=(28, 28, 1)))\n",
        "model_2.add(MaxPooling2D((2, 2)))\n",
        "model_2.add(Flatten())\n",
        "model_2.add(Dropout(0.1))\n",
        "model_2.add(Dense(100, activation='sigmoid', kernel_initializer='he_uniform'))\n",
        "model_2.add(Dense(10, activation='softmax'))\n",
        "\n",
        "scores , losses = Build_Model_2(model_2,train_norm ,trainY)"
      ],
      "execution_count": null,
      "outputs": [
        {
          "output_type": "stream",
          "text": [
            "accuracy: 95.408\n",
            "loss: 0.1528933\n",
            "accuracy: 95.675\n",
            "loss: 0.1429238\n",
            "accuracy: 97.408\n",
            "loss: 0.0828673\n",
            "accuracy: 97.442\n",
            "loss: 0.0818196\n",
            "accuracy: 97.675\n",
            "loss: 0.0753446\n"
          ],
          "name": "stdout"
        }
      ]
    },
    {
      "cell_type": "code",
      "metadata": {
        "colab": {
          "base_uri": "https://localhost:8080/"
        },
        "id": "4CUhqpmH3XmE",
        "outputId": "9830bc18-b392-4342-90d4-c518c6adf77c"
      },
      "source": [
        "model_2 = Sequential()\n",
        "model_2.add(Conv2D(64, (2, 2), activation='relu', kernel_initializer='he_uniform', input_shape=(28, 28, 1)))\n",
        "model_2.add(MaxPooling2D((2, 2)))\n",
        "model_2.add(Conv2D(64, (2, 2), activation='relu', kernel_initializer='he_uniform', input_shape=(28, 28, 1)))\n",
        "model_2.add(MaxPooling2D((2, 2)))\n",
        "model_2.add(Conv2D(64, (2, 2), activation='relu', kernel_initializer='he_uniform', input_shape=(28, 28, 1)))\n",
        "model_2.add(MaxPooling2D((2, 2)))\n",
        "model_2.add(Flatten())\n",
        "model_2.add(Dropout(0.3))\n",
        "model_2.add(Dense(100, activation='relu', kernel_initializer='he_uniform'))\n",
        "model_2.add(Dense(10, activation='softmax'))\n",
        "\n",
        "scores , losses = Build_Model_2(model_2,train_norm ,trainY)"
      ],
      "execution_count": null,
      "outputs": [
        {
          "output_type": "stream",
          "text": [
            "accuracy: 97.383\n",
            "loss: 0.0865650\n",
            "accuracy: 97.442\n",
            "loss: 0.0972558\n",
            "accuracy: 97.908\n",
            "loss: 0.0829282\n",
            "accuracy: 98.358\n",
            "loss: 0.0646453\n",
            "accuracy: 98.067\n",
            "loss: 0.0703090\n"
          ],
          "name": "stdout"
        }
      ]
    },
    {
      "cell_type": "code",
      "metadata": {
        "colab": {
          "base_uri": "https://localhost:8080/"
        },
        "id": "EZiy8uCtEqxT",
        "outputId": "f3fcfd4e-5b2b-49cb-d5f9-3f324bc51e92"
      },
      "source": [
        "model_2 = Sequential()\n",
        "model_2.add(Conv2D(64, (2, 2), activation='relu', kernel_initializer='he_uniform', input_shape=(28, 28, 1)))\n",
        "model_2.add(MaxPooling2D((2, 2)))\n",
        "model_2.add(Conv2D(64, (2, 2), activation='relu', kernel_initializer='he_uniform', input_shape=(28, 28, 1)))\n",
        "model_2.add(MaxPooling2D((2, 2)))\n",
        "model_2.add(Flatten())\n",
        "model_2.add(Dropout(0.3))\n",
        "model_2.add(Dense(100, activation='relu', kernel_initializer='he_uniform'))\n",
        "model_2.add(Dense(10, activation='softmax'))\n",
        "\n",
        "scores , losses = Build_Model_2(model_2,train_norm ,trainY)"
      ],
      "execution_count": null,
      "outputs": [
        {
          "output_type": "stream",
          "text": [
            "accuracy: 98.217\n",
            "loss: 0.0634645\n",
            "accuracy: 98.767\n",
            "loss: 0.0421274\n",
            "accuracy: 98.767\n",
            "loss: 0.0383488\n",
            "accuracy: 99.083\n",
            "loss: 0.0311828\n",
            "accuracy: 99.067\n",
            "loss: 0.0303899\n"
          ],
          "name": "stdout"
        }
      ]
    },
    {
      "cell_type": "code",
      "metadata": {
        "colab": {
          "base_uri": "https://localhost:8080/"
        },
        "id": "gWH-QnAIEvp0",
        "outputId": "a72ffb27-070c-4133-9d4d-84af383aca22"
      },
      "source": [
        "model_2 = Sequential()\n",
        "model_2.add(Conv2D(64, (2, 2), activation='relu', kernel_initializer='he_uniform', input_shape=(28, 28, 1)))\n",
        "model_2.add(MaxPooling2D((2, 2)))\n",
        "model_2.add(Flatten())\n",
        "model_2.add(Dropout(0.3))\n",
        "model_2.add(Dense(100, activation='relu', kernel_initializer='he_uniform'))\n",
        "model_2.add(Dense(10, activation='softmax'))\n",
        "\n",
        "scores , losses = Build_Model_2(model_2,train_norm ,trainY)"
      ],
      "execution_count": null,
      "outputs": [
        {
          "output_type": "stream",
          "text": [
            "accuracy: 97.417\n",
            "loss: 0.1128805\n",
            "accuracy: 98.367\n",
            "loss: 0.0800713\n",
            "accuracy: 99.250\n",
            "loss: 0.0390582\n",
            "accuracy: 99.417\n",
            "loss: 0.0293098\n",
            "accuracy: 99.608\n",
            "loss: 0.0202521\n"
          ],
          "name": "stdout"
        }
      ]
    },
    {
      "cell_type": "markdown",
      "metadata": {
        "id": "U3crtl0lQ2qI"
      },
      "source": [
        "#Model 3\n"
      ]
    },
    {
      "cell_type": "code",
      "metadata": {
        "colab": {
          "base_uri": "https://localhost:8080/"
        },
        "id": "UCbgPNwUQ85p",
        "outputId": "8de20e3a-5834-4068-9a77-5496b0fc9029"
      },
      "source": [
        "model_3 = Sequential()\n",
        "model_3.add(Conv2D(64, (2, 2), activation='tanh', kernel_initializer='he_uniform', input_shape=(28, 28, 1)))\n",
        "model_3.add(MaxPooling2D((2, 2)))\n",
        "model_3.add(Conv2D(64, (2, 2), activation='tanh', kernel_initializer='he_uniform', input_shape=(28, 28, 1)))\n",
        "model_3.add(MaxPooling2D((2, 2)))\n",
        "model_3.add(Flatten())\n",
        "model_3.add(Dropout(0.3))\n",
        "model_3.add(Dense(100, activation='tanh', kernel_initializer='he_uniform'))\n",
        "model_3.add(Dense(10, activation='softmax'))\n",
        "\n",
        "scores , losses = Build_Model_3(model_3,train_norm ,trainY)"
      ],
      "execution_count": null,
      "outputs": [
        {
          "output_type": "stream",
          "text": [
            "accuracy: 98.833\n",
            "loss: 0.0478864\n",
            "accuracy: 99.525\n",
            "loss: 0.0137266\n",
            "accuracy: 99.792\n",
            "loss: 0.0052635\n",
            "accuracy: 99.967\n",
            "loss: 0.0015654\n",
            "accuracy: 99.967\n",
            "loss: 0.0008751\n"
          ],
          "name": "stdout"
        }
      ]
    },
    {
      "cell_type": "code",
      "metadata": {
        "colab": {
          "base_uri": "https://localhost:8080/"
        },
        "id": "2lWTO3i5FB_2",
        "outputId": "bd419ac2-9022-4a56-bd9e-612d8019edf5"
      },
      "source": [
        "model_3 = Sequential()\n",
        "model_3.add(Conv2D(64, (2, 2), activation='tanh', kernel_initializer='he_uniform', input_shape=(28, 28, 1)))\n",
        "model_3.add(MaxPooling2D((2, 2)))\n",
        "model_3.add(Flatten())\n",
        "model_3.add(Dropout(0.3))\n",
        "model_3.add(Dense(100, activation='tanh', kernel_initializer='he_uniform'))\n",
        "model_3.add(Dense(10, activation='softmax'))\n",
        "\n",
        "scores , losses = Build_Model_3(model_3,train_norm ,trainY)"
      ],
      "execution_count": null,
      "outputs": [
        {
          "output_type": "stream",
          "text": [
            "accuracy: 98.025\n",
            "loss: 0.0686769\n",
            "accuracy: 99.292\n",
            "loss: 0.0230857\n",
            "accuracy: 99.667\n",
            "loss: 0.0109783\n",
            "accuracy: 99.900\n",
            "loss: 0.0026896\n",
            "accuracy: 99.950\n",
            "loss: 0.0018766\n"
          ],
          "name": "stdout"
        }
      ]
    },
    {
      "cell_type": "code",
      "metadata": {
        "colab": {
          "base_uri": "https://localhost:8080/"
        },
        "id": "hEKfLVsqFFBh",
        "outputId": "85bd1714-aa71-44a3-e452-200d45b5a786"
      },
      "source": [
        "model_3 = Sequential()\n",
        "model_3.add(Conv2D(64, (2, 2), activation='tanh', kernel_initializer='he_uniform', input_shape=(28, 28, 1)))\n",
        "model_3.add(MaxPooling2D((2, 2)))\n",
        "model_3.add(Conv2D(64, (2, 2), activation='tanh', kernel_initializer='he_uniform', input_shape=(28, 28, 1)))\n",
        "model_3.add(MaxPooling2D((2, 2)))\n",
        "model_3.add(Conv2D(64, (2, 2), activation='tanh', kernel_initializer='he_uniform', input_shape=(28, 28, 1)))\n",
        "model_3.add(MaxPooling2D((2, 2)))\n",
        "model_3.add(Flatten())\n",
        "model_3.add(Dropout(0.3))\n",
        "model_3.add(Dense(100, activation='tanh', kernel_initializer='he_uniform'))\n",
        "model_3.add(Dense(10, activation='softmax'))\n",
        "\n",
        "scores , losses = Build_Model_3(model_3,train_norm ,trainY)"
      ],
      "execution_count": null,
      "outputs": [
        {
          "output_type": "stream",
          "text": [
            "accuracy: 98.183\n",
            "loss: 0.0682396\n",
            "accuracy: 99.208\n",
            "loss: 0.0279540\n",
            "accuracy: 99.475\n",
            "loss: 0.0164327\n",
            "accuracy: 99.675\n",
            "loss: 0.0103974\n",
            "accuracy: 99.775\n",
            "loss: 0.0063874\n"
          ],
          "name": "stdout"
        }
      ]
    },
    {
      "cell_type": "code",
      "metadata": {
        "colab": {
          "base_uri": "https://localhost:8080/"
        },
        "id": "dOqQrHJcUwFD",
        "outputId": "829dbf70-8e6a-4f7a-89f5-371bdb3b19ac"
      },
      "source": [
        "model_3 = Sequential()\n",
        "model_3.add(Conv2D(64, (2, 2), activation='sigmoid', kernel_initializer='he_uniform', input_shape=(28, 28, 1)))\n",
        "model_3.add(MaxPooling2D((2, 2)))\n",
        "model_3.add(Conv2D(64, (2, 2), activation='sigmoid', kernel_initializer='he_uniform', input_shape=(28, 28, 1)))\n",
        "model_3.add(MaxPooling2D((2, 2)))\n",
        "model_3.add(Flatten())\n",
        "model_3.add(Dropout(0.3))\n",
        "model_3.add(Dense(100, activation='sigmoid', kernel_initializer='he_uniform'))\n",
        "model_3.add(Dense(10, activation='softmax'))\n",
        "\n",
        "scores , losses = Build_Model_3(model_3,train_norm ,trainY)"
      ],
      "execution_count": null,
      "outputs": [
        {
          "output_type": "stream",
          "text": [
            "accuracy: 98.050\n",
            "loss: 0.0655542\n",
            "accuracy: 98.833\n",
            "loss: 0.0382854\n",
            "accuracy: 98.958\n",
            "loss: 0.0315375\n",
            "accuracy: 99.608\n",
            "loss: 0.0127797\n",
            "accuracy: 99.583\n",
            "loss: 0.0141035\n"
          ],
          "name": "stdout"
        }
      ]
    },
    {
      "cell_type": "code",
      "metadata": {
        "colab": {
          "base_uri": "https://localhost:8080/"
        },
        "id": "PmJHRNSNev0G",
        "outputId": "29af7fd0-8681-4db2-e2bf-70d23564c9bc"
      },
      "source": [
        "model_3 = Sequential()\n",
        "model_3.add(Conv2D(64, (2, 2), activation='relu', kernel_initializer='he_uniform', input_shape=(28, 28, 1)))\n",
        "model_3.add(MaxPooling2D((2, 2)))\n",
        "model_3.add(Conv2D(64, (2, 2), activation='relu', kernel_initializer='he_uniform', input_shape=(28, 28, 1)))\n",
        "model_3.add(MaxPooling2D((2, 2)))\n",
        "model_3.add(Flatten())\n",
        "model_3.add(Dropout(0.3))\n",
        "model_3.add(Dense(100, activation='relu', kernel_initializer='he_uniform'))\n",
        "model_3.add(Dense(10, activation='softmax'))\n",
        "\n",
        "scores , losses = Build_Model_3(model_3,train_norm ,trainY)"
      ],
      "execution_count": null,
      "outputs": [
        {
          "output_type": "stream",
          "text": [
            "accuracy: 98.842\n",
            "loss: 0.0512219\n",
            "accuracy: 99.500\n",
            "loss: 0.0194507\n",
            "accuracy: 99.758\n",
            "loss: 0.0104003\n",
            "accuracy: 99.933\n",
            "loss: 0.0025921\n",
            "accuracy: 99.858\n",
            "loss: 0.0041630\n"
          ],
          "name": "stdout"
        }
      ]
    }
  ]
}